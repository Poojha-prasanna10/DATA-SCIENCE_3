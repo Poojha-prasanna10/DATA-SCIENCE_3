# 1. Import Libraries
import pandas as pd
import numpy as np
import matplotlib.pyplot as plt
import seaborn as sns

# 2. Load the Dataset
df = pd.read_csv('data/processed/cleaned_data.csv')

# Display the first few rows of the dataset
df.head()

# 3. Data Overview
# Basic information about the dataset
df.info()

# Summary statistics
df.describe()

# 4. Handling Missing Values
# Check for missing values
df.isnull().sum()

# 5. Visualizing Data Distributions
# Plot the distribution of the target variable
sns.histplot(df['target'], kde=True)
plt.title('Target Variable Distribution')
plt.show()

# Visualize distributions of numerical features
df.select_dtypes(include=['float64', 'int64']).hist(bins=15, figsize=(15, 10))
plt.tight_layout()
plt.show()

# 6. Correlation Matrix
# Correlation matrix to see relationships between numeric variables
corr = df.corr()
plt.figure(figsize=(12, 8))
sns.heatmap(corr, annot=True, cmap='coolwarm', fmt='.2f')
plt.title('Correlation Matrix')
plt.show()

# 7. Categorical Feature Analysis
# If you have categorical variables, visualize their distributions
if 'Category' in df.columns:
    sns.countplot(x='Category', data=df)
    plt.title('Category Distribution')
    plt.show()

# 8. Feature Engineering (Optional)
# Create new features or modify existing ones if needed
# For example, log-transform or apply encoding methods to categorical variables
